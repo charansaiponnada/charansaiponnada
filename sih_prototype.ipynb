{
  "nbformat": 4,
  "nbformat_minor": 0,
  "metadata": {
    "colab": {
      "provenance": [],
      "authorship_tag": "ABX9TyPirwXhGfYaSVcu7EmPPtRA",
      "include_colab_link": true
    },
    "kernelspec": {
      "name": "python3",
      "display_name": "Python 3"
    },
    "language_info": {
      "name": "python"
    }
  },
  "cells": [
    {
      "cell_type": "markdown",
      "metadata": {
        "id": "view-in-github",
        "colab_type": "text"
      },
      "source": [
        "<a href=\"https://colab.research.google.com/github/charansaiponnada/charansaiponnada/blob/main/sih_prototype.ipynb\" target=\"_parent\"><img src=\"https://colab.research.google.com/assets/colab-badge.svg\" alt=\"Open In Colab\"/></a>"
      ]
    },
    {
      "cell_type": "code",
      "execution_count": 9,
      "metadata": {
        "id": "T3KtrkXYoCEt",
        "colab": {
          "base_uri": "https://localhost:8080/"
        },
        "outputId": "91a6fff2-d676-45ef-ba87-34da02fff92d"
      },
      "outputs": [
        {
          "output_type": "stream",
          "name": "stdout",
          "text": [
            "Number of files in '/content/DATASEt/REAL': 200\n"
          ]
        }
      ],
      "source": [
        "# to count the number of files present in data set\n",
        "\n",
        "import os\n",
        "\n",
        "folder_path = '/content/DATASEt/REAL'  # Replace with your actual folder path\n",
        "\n",
        "file_count = 0\n",
        "for filename in os.listdir(folder_path):\n",
        "    file_path = os.path.join(folder_path, filename)\n",
        "    if os.path.isfile(file_path):\n",
        "        file_count += 1\n",
        "\n",
        "print(f\"Number of files in '{folder_path}': {file_count}\")\n"
      ]
    },
    {
      "cell_type": "code",
      "source": [],
      "metadata": {
        "id": "k8WNO53X7VWi"
      },
      "execution_count": null,
      "outputs": []
    }
  ]
}